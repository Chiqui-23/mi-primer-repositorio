{
 "cells": [
  {
   "cell_type": "markdown",
   "metadata": {},
   "source": [
    "## Operadores - Actividad"
   ]
  },
  {
   "cell_type": "markdown",
   "metadata": {},
   "source": [
    "1) Pedir al usuario dos números y mostrar por pantalla la suma de ellos."
   ]
  },
  {
   "cell_type": "code",
   "execution_count": 7,
   "metadata": {},
   "outputs": [
    {
     "name": "stdout",
     "output_type": "stream",
     "text": [
      "La suma es 6\n"
     ]
    }
   ],
   "source": [
    "a = input(\"Pedir número a\")\n",
    "b = input(\"Pedir número b\")\n",
    "\n",
    "suma = (int(a) + int(b))\n",
    "\n",
    "print (\"La suma es\", suma)"
   ]
  },
  {
   "cell_type": "markdown",
   "metadata": {},
   "source": [
    "2) Calcular el perímetro y área de un rectángulo dada su base y su altura (el usuario debe introducir por teclado los dos valores)."
   ]
  },
  {
   "cell_type": "code",
   "execution_count": 6,
   "metadata": {},
   "outputs": [
    {
     "name": "stdout",
     "output_type": "stream",
     "text": [
      "El área del rectangule es 6\n"
     ]
    }
   ],
   "source": [
    "perimetro = int(input(\"el perimetro es\"))\n",
    "altura = int(input(\"la altura es\"))\n",
    "\n",
    "area = perimetro * altura\n",
    "\n",
    "print(\"El área del rectangule es\", area)"
   ]
  },
  {
   "cell_type": "markdown",
   "metadata": {},
   "source": [
    "3) Calcular el resultado de elevar un número entero a otro número entero (por ejemplo, 5 elevado a 3 = 5^3 = 5*5*5)."
   ]
  },
  {
   "cell_type": "code",
   "execution_count": 12,
   "metadata": {},
   "outputs": [
    {
     "name": "stdout",
     "output_type": "stream",
     "text": [
      "el primer número elevado al segundo número es 125\n"
     ]
    }
   ],
   "source": [
    "numero_entero_1 = int(input(\"ingrese el primer número entero\"))\n",
    "numero_entero_2 = int(input(\"ingrese el segundo número entero\"))\n",
    "\n",
    "potencia = numero_entero_1**numero_entero_2\n",
    "\n",
    "print(\"el primer número elevado al segundo número es\", potencia)"
   ]
  },
  {
   "cell_type": "markdown",
   "metadata": {},
   "source": [
    "4) Escribe un programa que convierta grados Celsius a grados Fahrenheit utilizando la fórmula: **F = (C * 9/5) + 32**"
   ]
  },
  {
   "cell_type": "code",
   "execution_count": 10,
   "metadata": {},
   "outputs": [
    {
     "name": "stdout",
     "output_type": "stream",
     "text": [
      "30 grados Celsius son 86.0 grados Farenheit\n"
     ]
    }
   ],
   "source": [
    "C = int(input(\"Los grados en Celsius (escribir solo números):\"))\n",
    "\n",
    "F = (C * 9/5) + 32\n",
    "\n",
    "print(C, \"grados Celsius son\", F, \"grados Farenheit\")"
   ]
  },
  {
   "cell_type": "markdown",
   "metadata": {},
   "source": [
    "5) Pedir al usuario su edad y mostrar por pantalla si es mayor de edad o no. (Mayor de edad >= 18)"
   ]
  },
  {
   "cell_type": "code",
   "execution_count": 40,
   "metadata": {},
   "outputs": [
    {
     "name": "stdout",
     "output_type": "stream",
     "text": [
      "usted es mayor de edad\n",
      "¿Es mayor de edad? {True}\n"
     ]
    }
   ],
   "source": [
    "edad = int(input(\"ingrese su edad\"))\n",
    "\n",
    "if edad >= 18:\n",
    "    print(\"usted es mayor de edad\")\n",
    "else:\n",
    "    print(\"usted es menor de edad\")\n",
    "    \n",
    "#Sin usar condicionales: \n",
    "\n",
    "print(f\"¿Es mayor de edad?\", {edad >=18 })\n",
    "\n",
    "\n"
   ]
  },
  {
   "cell_type": "markdown",
   "metadata": {},
   "source": [
    "6) Comprobar si el numero ingresado por el usuario es par o impar."
   ]
  },
  {
   "cell_type": "code",
   "execution_count": 23,
   "metadata": {},
   "outputs": [
    {
     "name": "stdout",
     "output_type": "stream",
     "text": [
      "¿el número es par?, False\n"
     ]
    }
   ],
   "source": [
    "numero = int(input(\"ingrese un número entero\"))\n",
    "\n",
    "resto = numero % 2\n",
    "\n",
    "\n",
    "print(f\"¿el número es par?, {resto == 0}\")"
   ]
  },
  {
   "cell_type": "markdown",
   "metadata": {},
   "source": [
    "7) Pedir al usuario que ingrese su dirección email y luego mostrar un mensaje indicando si la dirección es válida o no. Una dirección se considerará válida si contiene el símbolo \"@\"."
   ]
  },
  {
   "cell_type": "code",
   "execution_count": 27,
   "metadata": {},
   "outputs": [
    {
     "name": "stdout",
     "output_type": "stream",
     "text": [
      "¿el email ingresado es válido?, False\n"
     ]
    }
   ],
   "source": [
    "email = input(\"ingrese su email\")\n",
    "\n",
    "print(f\"¿el email ingresado es válido?, {\"@\" in email}\")"
   ]
  },
  {
   "cell_type": "markdown",
   "metadata": {},
   "source": [
    "8) Dado un número de dos cifras, diseñe un algoritmo que permita obtener el número invertido. Ejemplo, si se introduce 23 que muestre 32. (Recordar que las cadenas pueden tratarse como listas de caracteres)."
   ]
  },
  {
   "cell_type": "code",
   "execution_count": 31,
   "metadata": {},
   "outputs": [
    {
     "name": "stdout",
     "output_type": "stream",
     "text": [
      "el número invertido es 34\n"
     ]
    }
   ],
   "source": [
    "numero = input(\"ingrese un número de dos cifras\")\n",
    "\n",
    "\n",
    "print(\"el número invertido es\", numero[::-1])\n"
   ]
  },
  {
   "cell_type": "markdown",
   "metadata": {},
   "source": [
    "9) Crea un programa que pida al usuario dos números y muestre True si ambos son mayores que 10."
   ]
  },
  {
   "cell_type": "code",
   "execution_count": 35,
   "metadata": {},
   "outputs": [
    {
     "name": "stdout",
     "output_type": "stream",
     "text": [
      "False\n"
     ]
    }
   ],
   "source": [
    "numero_1 = int(input(\"ingrese el primer número\"))\n",
    "numero_2 = int(input(\"ingrese el segundo número\"))\n",
    "\n",
    "\n",
    "print(numero_1 > 10 and numero_2 > 10)\n"
   ]
  },
  {
   "cell_type": "markdown",
   "metadata": {},
   "source": [
    "10) Escribe un programa que verifique si un número ingresado por el usuario es divisible por 3 y por 5."
   ]
  },
  {
   "cell_type": "code",
   "execution_count": 37,
   "metadata": {},
   "outputs": [
    {
     "name": "stdout",
     "output_type": "stream",
     "text": [
      "¿el número ingresado es divisible por 3 y por 5? True\n"
     ]
    }
   ],
   "source": [
    "numero = int(input(\"ingrese un número\"))\n",
    "\n",
    "divisible_3 = numero % 3\n",
    "divisible_5 = numero % 5\n",
    "\n",
    "\n",
    "print(f\"¿el número ingresado es divisible por 3 y por 5?\", divisible_3 == 0 and divisible_5 == 0)"
   ]
  },
  {
   "cell_type": "markdown",
   "metadata": {},
   "source": [
    "11) Utilizando la información del punto 5, preguntar al usuario si posee carnet de conducir, luego verificar si puede conducir un automóvil."
   ]
  },
  {
   "cell_type": "code",
   "execution_count": 41,
   "metadata": {},
   "outputs": [
    {
     "name": "stdout",
     "output_type": "stream",
     "text": [
      "¿Usted puede conducir? True\n"
     ]
    }
   ],
   "source": [
    "carnet = (input(\"¿posee carnet de conducir? Responder si o no\"))\n",
    "\n",
    "print (\"¿Usted puede conducir?\", edad >= 18 and carnet == \"si\")"
   ]
  },
  {
   "cell_type": "markdown",
   "metadata": {},
   "source": [
    "12) Pide al usuario un número y verifica si es positivo y no es mayor que 100."
   ]
  },
  {
   "cell_type": "code",
   "execution_count": 1,
   "metadata": {},
   "outputs": [
    {
     "name": "stdout",
     "output_type": "stream",
     "text": [
      "¿el número es posiivo y no es mayor que 100? True\n"
     ]
    }
   ],
   "source": [
    "numero = int(input(\"ingrese un número\"))\n",
    "\n",
    "\n",
    "\n",
    "print(f\"¿el número es posiivo y no es mayor que 100?\", numero >= 0 and numero < 100)"
   ]
  },
  {
   "cell_type": "markdown",
   "metadata": {},
   "source": [
    "13) Crear un programa que valide si un número ingresado por el usuario es par y mayor que 20."
   ]
  },
  {
   "cell_type": "code",
   "execution_count": 6,
   "metadata": {},
   "outputs": [
    {
     "name": "stdout",
     "output_type": "stream",
     "text": [
      "¿el num ingresado es par y mayor que 20? True\n"
     ]
    }
   ],
   "source": [
    "numero = int(input(\"ingrese un número\"))\n",
    "\n",
    "resto = numero % 2\n",
    "\n",
    "print(f\"¿el num ingresado es par y mayor que 20?\", resto == 0 and numero > 20)"
   ]
  },
  {
   "cell_type": "markdown",
   "metadata": {},
   "source": [
    "14) Dada la variable **numero = 5**, realizar la operación necesaria para que número sea igual a 8. Luego imprimir en pantalla el nuevo valor de número y realizar una nueva operación para que el valor de número sea igual a 4 y mostrar en pantalla el nuevo valor."
   ]
  },
  {
   "cell_type": "code",
   "execution_count": 7,
   "metadata": {},
   "outputs": [
    {
     "name": "stdout",
     "output_type": "stream",
     "text": [
      "8\n",
      "4\n"
     ]
    }
   ],
   "source": [
    "numero = 5\n",
    "numero = numero + 3\n",
    "print(numero)\n",
    "numero = numero - 4\n",
    "print(numero)"
   ]
  },
  {
   "cell_type": "markdown",
   "metadata": {},
   "source": [
    "15) Dadas las variables altura = \"10\" y base = 5, calcular el área de un triángulo y mostrar el resultado en pantalla. ¿Por qué el resultado es un error? ¿Cómo lo corregirías?"
   ]
  },
  {
   "cell_type": "code",
   "execution_count": 9,
   "metadata": {},
   "outputs": [
    {
     "name": "stdout",
     "output_type": "stream",
     "text": [
      "25.0\n",
      "25.0\n"
     ]
    }
   ],
   "source": [
    "altura = 10\n",
    "base = 5\n",
    "\n",
    "print (base * altura / 2)\n",
    "\n",
    "area_triang = base * altura / 2\n",
    "\n",
    "print(area_triang)"
   ]
  },
  {
   "cell_type": "markdown",
   "metadata": {},
   "source": [
    "16) Crea un programa que calcule el promedio de tres calificaciones ingresadas por el usuario, y comprobar si el alumno aprobó o no (aprueba con nota mayor a 6)."
   ]
  },
  {
   "cell_type": "code",
   "execution_count": 13,
   "metadata": {},
   "outputs": [
    {
     "name": "stdout",
     "output_type": "stream",
     "text": [
      "6.033333333333334\n",
      "¿aprobó? True\n"
     ]
    }
   ],
   "source": [
    "calificacion_1 = float(input(\"ingrese la primer calificación\"))\n",
    "calificacion_2 = float(input(\"ingrese la segunda calificación\"))\n",
    "calificacion_3 = float(input(\"ingrese la tercer calificación\"))\n",
    "\n",
    "promedio = (calificacion_1 + calificacion_2 + calificacion_3) / 3\n",
    "\n",
    "print(promedio)\n",
    "print(\"¿aprobó?\", promedio > 6)"
   ]
  },
  {
   "cell_type": "markdown",
   "metadata": {},
   "source": [
    "17) Pide al usuario su edad y calcula cuántos días, horas y minutos ha vivido aproximadamente (asumiendo 365 días por año)."
   ]
  },
  {
   "cell_type": "code",
   "execution_count": 15,
   "metadata": {},
   "outputs": [
    {
     "name": "stdout",
     "output_type": "stream",
     "text": [
      "usted vivió aprox:\n",
      "365 días\n",
      "8760 horas\n",
      "525600 minutos\n"
     ]
    }
   ],
   "source": [
    "edad = int(input(\"¿cuál es su edad?\"))\n",
    "\n",
    "dias_vividos = edad * 365\n",
    "horas_vividas = dias_vividos * 24\n",
    "minutos_vividos = horas_vividas * 60\n",
    "\n",
    "print(\"usted vivió aprox:\")\n",
    "print(f\"{dias_vividos} días\")\n",
    "print(f\"{horas_vividas} horas\")\n",
    "print(f\"{minutos_vividos} minutos\")"
   ]
  },
  {
   "cell_type": "markdown",
   "metadata": {},
   "source": [
    "18) Crea un programa que verifique si un número ingresado por el usuario es múltiplo de 4 y de 6 al mismo tiempo."
   ]
  },
  {
   "cell_type": "code",
   "execution_count": 17,
   "metadata": {},
   "outputs": [
    {
     "name": "stdout",
     "output_type": "stream",
     "text": [
      "¿el num ingresado es múltiplo de 4 y de 6 al mismo tiempo: True\n"
     ]
    }
   ],
   "source": [
    "numero = int(input(\"ingrese un num entero\"))\n",
    "\n",
    "resto_4 = numero % 4\n",
    "resto_6 = numero % 6\n",
    "\n",
    "print(\"¿el num ingresado es múltiplo de 4 y de 6 al mismo tiempo:\", resto_4 == 0 and resto_6 == 0)"
   ]
  }
 ],
 "metadata": {
  "kernelspec": {
   "display_name": "Python 3",
   "language": "python",
   "name": "python3"
  },
  "language_info": {
   "codemirror_mode": {
    "name": "ipython",
    "version": 3
   },
   "file_extension": ".py",
   "mimetype": "text/x-python",
   "name": "python",
   "nbconvert_exporter": "python",
   "pygments_lexer": "ipython3",
   "version": "3.12.2"
  }
 },
 "nbformat": 4,
 "nbformat_minor": 2
}
